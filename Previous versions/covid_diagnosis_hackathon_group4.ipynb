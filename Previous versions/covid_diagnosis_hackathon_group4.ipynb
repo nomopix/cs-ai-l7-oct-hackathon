{
 "cells": [
  {
   "cell_type": "markdown",
   "source": [
    "# Covid-19 diagnosis using symptoms\r\n",
    "\r\n",
    "[Prateek Gupta](https://www.pgupta.info) \r\n",
    "\r\n",
    "2020-05-20\r\n",
    "\r\n",
    "**Abstract:** This notebook is a tutorial on building a typical machine learning classifier. \r\n",
    "The process of doing so spans steps ranging from data wrangling to model selection. \r\n",
    "With the help of each of these steps we hope to make the reader familiar with challenges involved in building a machine learning system. \r\n",
    "\r\n",
    "# Question\r\n",
    "\r\n",
    "In this hackathon, we want to build a machine learning model to predict COVID-19 infections from symptoms.\r\n",
    "It has several applications, for example, triaging patients to be attended to by a doctor or nurse, recommending self-isolation through contact tracing apps. \r\n",
    "\r\n",
    "Zoabi et al. [[1]](https://www.nature.com/articles/s41746-020-00372-6) builds a decision tree classifier using the publicly available data reported by the Israeli Ministry of Health.\r\n",
    "The paper itself dicsusses the various challenges encountered in deploying such a model. \r\n",
    "It is encouraged to read the paper and learn the challeges and ways to overcome them. \r\n",
    "\r\n",
    "However, in this hackathon, we will use their dataset and make the participant familiar with a typical pipeline of building a machine learning system.\r\n",
    "\r\n",
    "[1] [Zoabi, Y., Deri-Rozov, S. & Shomron, N. Machine learning-based prediction of COVID-19 diagnosis based on symptoms. npj Digit. Med. 4, 3 (2021).]((https://www.nature.com/articles/s41746-020-00372-6))\r\n"
   ],
   "metadata": {}
  },
  {
   "cell_type": "code",
   "execution_count": 207,
   "source": [
    "import pandas as pd\r\n",
    "import math\r\n",
    "import numpy as np\r\n",
    "\r\n",
    "from sklearn.preprocessing import OneHotEncoder\r\n",
    "from sklearn.preprocessing import LabelBinarizer\r\n",
    "from sklearn.linear_model import LogisticRegression\r\n",
    "from sklearn.metrics import plot_roc_curve, roc_auc_score, roc_curve\r\n",
    "\r\n",
    "import matplotlib.pyplot as plt\r\n",
    "from matplotlib.lines import Line2D"
   ],
   "outputs": [],
   "metadata": {}
  },
  {
   "cell_type": "markdown",
   "source": [
    "# Data \r\n",
    "\r\n",
    "Let's check how the data looks like and how various features are encoded. \r\n",
    "\r\n",
    "NMF: the data has been downloaded from https://github.com/nshomron/covidpred and added to this repo for ease of use."
   ],
   "metadata": {}
  },
  {
   "cell_type": "code",
   "execution_count": 208,
   "source": [
    "df = pd.read_csv('data/corona_tested_individuals_ver_006.english.csv.zip')"
   ],
   "outputs": [
    {
     "output_type": "stream",
     "name": "stderr",
     "text": [
      "C:\\Users\\kzdw314\\AppData\\Roaming\\Python\\Python39\\site-packages\\IPython\\core\\interactiveshell.py:3441: DtypeWarning: Columns (1,2,3,4,5) have mixed types.Specify dtype option on import or set low_memory=False.\n",
      "  exec(code_obj, self.user_global_ns, self.user_ns)\n"
     ]
    }
   ],
   "metadata": {}
  },
  {
   "cell_type": "code",
   "execution_count": 209,
   "source": [
    "df.columns"
   ],
   "outputs": [
    {
     "output_type": "execute_result",
     "data": {
      "text/plain": [
       "Index(['test_date', 'cough', 'fever', 'sore_throat', 'shortness_of_breath',\n",
       "       'head_ache', 'corona_result', 'age_60_and_above', 'gender',\n",
       "       'test_indication'],\n",
       "      dtype='object')"
      ]
     },
     "metadata": {},
     "execution_count": 209
    }
   ],
   "metadata": {
    "colab": {
     "base_uri": "https://localhost:8080/"
    },
    "id": "LXaLQdbBAElY",
    "outputId": "3501d509-7250-496e-bb59-cfc5d9249d81"
   }
  },
  {
   "cell_type": "markdown",
   "source": [
    "Great! These are the features used in the paper for their prediction task. The authors also list these features in the [README.md of their Github repo](https://github.com/nshomron/covidpred). "
   ],
   "metadata": {
    "id": "RWHY4TLAAhpJ"
   }
  },
  {
   "cell_type": "markdown",
   "source": [
    "Pandas read columns as string, so we need to convert them to the proper format before we can operate on it."
   ],
   "metadata": {
    "id": "PEtPMd2qGn72"
   }
  },
  {
   "cell_type": "code",
   "execution_count": 210,
   "source": [
    "df['test_date'] = pd.to_datetime(df['test_date'])"
   ],
   "outputs": [],
   "metadata": {
    "id": "Zi7esn5RGdC8"
   }
  },
  {
   "cell_type": "code",
   "execution_count": 211,
   "source": [
    "print(\"Start date:\", min(df['test_date']))\r\n",
    "print(\"End date:\", max(df['test_date']))\r\n",
    "\r\n",
    "n_days = (max(df['test_date']) - min(df['test_date'])).days\r\n",
    "print(\"# of days: \", n_days)\r\n",
    "\r\n",
    "n_obs =  df.shape[0]\r\n",
    "print(\"# of observations:\", df.shape[0])\r\n",
    "print(\"# of features:\", df.shape[1])\r\n",
    "\r\n",
    "pos_cases = sum(df['corona_result'] == \"positive\")\r\n",
    "print(\"# of positively diagnosed cases: {0} ({1: 2.2f}%)\".format(pos_cases, 100*pos_cases / n_obs))\r\n",
    "\r\n",
    "neg_cases = sum(df['corona_result'] == \"negative\")\r\n",
    "print(\"# of negatively diagnosed cases: {0} ({1: 2.2f}%)\".format(neg_cases, 100 * neg_cases / n_obs))\r\n",
    "\r\n",
    "other_cases = sum(df['corona_result'] == \"other\") # possibly not confirmed\r\n",
    "print(\"# of other cases (possibly, not confirmed): {0} ({1: 2.2f}%)\".format(other_cases, 100 * other_cases / n_obs))"
   ],
   "outputs": [
    {
     "output_type": "stream",
     "name": "stdout",
     "text": [
      "Start date: 2020-03-11 00:00:00\n",
      "End date: 2020-04-30 00:00:00\n",
      "# of days:  50\n",
      "# of observations: 278848\n",
      "# of features: 10\n",
      "# of positively diagnosed cases: 14729 ( 5.28%)\n",
      "# of negatively diagnosed cases: 260227 ( 93.32%)\n",
      "# of other cases (possibly, not confirmed): 3892 ( 1.40%)\n"
     ]
    }
   ],
   "metadata": {
    "colab": {
     "base_uri": "https://localhost:8080/"
    },
    "id": "Mdb3D7Y5BdTt",
    "outputId": "75a9cc98-8a8a-4764-a7df-208cc85202d9"
   }
  },
  {
   "cell_type": "markdown",
   "source": [
    "Since we do not have any information on what happened to \"other\" cases, we will exclude them from our exercise. \n",
    "\n"
   ],
   "metadata": {
    "id": "7guFsw8K-Cvy"
   }
  },
  {
   "cell_type": "code",
   "execution_count": 200,
   "source": [
    "df = df[df['corona_result'].isin(['positive', 'negative'])]"
   ],
   "outputs": [],
   "metadata": {
    "id": "I-2eeGvK-Bxv"
   }
  },
  {
   "cell_type": "markdown",
   "source": [
    "To build out predictor, we will be splitting our dataset into **training,  validation, and test sets**. \r\n",
    "A model is trained on the training dataset while the hyperparameters are tuned on the validation dataset. \r\n",
    "Finally, a test dataset is used to report final model's performance metrics. \r\n",
    "\r\n",
    "Since we have a time dependent dataset we will split our training and test dataset based on time. \r\n",
    "Thus, we find the date before which 60% of observations are present, and use that as our training dataset.\r\n",
    "We will use next 20% of the dataset as our validation dataset, and finally, the remaining 20% will be used as a test dataset. \r\n",
    "Thus, we use 60-20-20 split.\r\n",
    "\r\n",
    "The authors use 63%-23% training-test split, and a further split of training into train-valid dataset using 80-20% split.\r\n",
    "There is no prescribed formula on how to do this split. \r\n",
    "\r\n"
   ],
   "metadata": {
    "id": "4hG2lfabKr1e"
   }
  },
  {
   "cell_type": "code",
   "execution_count": 212,
   "source": [
    "date_counts = df.groupby(['test_date']).count()['gender'] # take count of any column. They will all be same.\r\n",
    "date_counts = date_counts.sort_index()\r\n",
    "cum_counts = date_counts.cumsum()\r\n",
    "cdf = cum_counts / n_obs\r\n"
   ],
   "outputs": [],
   "metadata": {
    "id": "s0dEh77THGW6"
   }
  },
  {
   "cell_type": "code",
   "execution_count": 213,
   "source": [
    "max_training_date = cdf[cdf < 0.60].index.max()\r\n",
    "training_data = df[df['test_date'] <= max_training_date]\r\n",
    "\r\n",
    "min_test_date = cdf[cdf > 0.80].index.min()\r\n",
    "test_data = df[df['test_date'] >= min_test_date]\r\n",
    "\r\n",
    "valid_data = df[(max_training_date < df['test_date']) & (df['test_date'] < min_test_date)]\r\n",
    "\r\n",
    "print(\"# of observations in training dataset\", training_data.shape[0])\r\n",
    "print(\"# of observations in validation dataset\", valid_data.shape[0])\r\n",
    "print(\"# of observations in test dataset\", test_data.shape[0])"
   ],
   "outputs": [
    {
     "output_type": "stream",
     "name": "stdout",
     "text": [
      "# of observations in training dataset 163189\n",
      "# of observations in validation dataset 53848\n",
      "# of observations in test dataset 61811\n"
     ]
    }
   ],
   "metadata": {
    "colab": {
     "base_uri": "https://localhost:8080/"
    },
    "id": "WvTrB-PsMrOv",
    "outputId": "f46dd3b9-4a37-4c62-de4c-d0126ba4d511"
   }
  },
  {
   "cell_type": "markdown",
   "source": [
    "**NOTE:**\n",
    "It is **extremely important** that you do not use the test dataset in the model building phase. \n",
    "While building models, it is required to tune the hyperparameter, adjust assumptions, modify features, etc. \n",
    "This should be done on the validation dataset. \n",
    "After several such iterations on the validation dataset, you will pick a model with the best performace as your final model. \n",
    "\n",
    "A test dataset is used to measure the final model's performance, which is a proxy for how it will perform (or generalize) in real life. \n",
    "Thus, to have a proper measure of model's genearalization, test dataset should not be part of your model building process. "
   ],
   "metadata": {
    "id": "J-xJrSsa5_Lz"
   }
  },
  {
   "cell_type": "markdown",
   "source": [
    "# Exploratory Data Analysis\n",
    "\n",
    "In this section, we will see the general statistics of features.\n",
    "In doing so, we will encounter inconsistencies in the data and address them accordingly. \n",
    "\n",
    "\n",
    "\n",
    "\n",
    "\n"
   ],
   "metadata": {
    "id": "W86CzZGp_rOd"
   }
  },
  {
   "cell_type": "code",
   "execution_count": 214,
   "source": [
    "# We want to predict 'corona_result'. \r\n",
    "# We will not use \"test_date\" as a feature. \r\n",
    "# So we narrow down the input features to this list \r\n",
    "INPUT_FEATURES = ['cough', 'fever', 'sore_throat', 'shortness_of_breath', 'head_ache', 'age_60_and_above', 'gender', 'test_indication']\r\n",
    "TARGET_COLUMN = 'corona_result'\r\n",
    "\r\n",
    "for col in INPUT_FEATURES:\r\n",
    "  print(\"*\"*25, f\" {col} \", \"*\"*25)\r\n",
    "  print(training_data[col].value_counts())"
   ],
   "outputs": [
    {
     "output_type": "stream",
     "name": "stdout",
     "text": [
      "*************************  cough  *************************\n",
      "0       121649\n",
      "1        25875\n",
      "0        12177\n",
      "1         3236\n",
      "None       252\n",
      "Name: cough, dtype: int64\n",
      "*************************  fever  *************************\n",
      "0       133942\n",
      "0        13934\n",
      "1        13582\n",
      "1         1479\n",
      "None       252\n",
      "Name: fever, dtype: int64\n",
      "*************************  sore_throat  *************************\n",
      "0       145028\n",
      "0        16257\n",
      "1         1457\n",
      "1          446\n",
      "None         1\n",
      "Name: sore_throat, dtype: int64\n",
      "*************************  shortness_of_breath  *************************\n",
      "0       145438\n",
      "0        16191\n",
      "1         1047\n",
      "1          512\n",
      "None         1\n",
      "Name: shortness_of_breath, dtype: int64\n",
      "*************************  head_ache  *************************\n",
      "0       144446\n",
      "0        16354\n",
      "1         2039\n",
      "1          349\n",
      "None         1\n",
      "Name: head_ache, dtype: int64\n",
      "*************************  age_60_and_above  *************************\n",
      "No      125703\n",
      "Yes      25825\n",
      "None     11661\n",
      "Name: age_60_and_above, dtype: int64\n",
      "*************************  gender  *************************\n",
      "male      73577\n",
      "female    71932\n",
      "None      17680\n",
      "Name: gender, dtype: int64\n",
      "*************************  test_indication  *************************\n",
      "Other                     137171\n",
      "Abroad                     17386\n",
      "Contact with confirmed      8632\n",
      "Name: test_indication, dtype: int64\n"
     ]
    }
   ],
   "metadata": {
    "colab": {
     "base_uri": "https://localhost:8080/"
    },
    "id": "jx1mMFLQEMdS",
    "outputId": "b29c246d-3d7e-4a33-8d50-9ed5afa2fdcc"
   }
  },
  {
   "cell_type": "markdown",
   "source": [
    "Here are the questions to guide you through the process of exploring data \n",
    "\n",
    "1.   Think about possible biases and limitations of this dataset\n",
    "2.   What is the format of feature values? Are there any inconsistencies? If so, how would you make them cosistent?\n",
    "3.   What is the statistics of these feature values? How many symptoms are reported or not?\n",
    "4.   Which symptoms have a reporting bias, i.e., likely to be reported when the patient is COVID positive? \n",
    "5.   How will the symptoms with reporting bias affect the model’s performance?\n",
    "6.   Visualization: Draw the bar graph of features grouped by the target class? \n",
    "7.   How does the bar graph of the symptoms with reporting bias looks like?\n",
    "8.   Determine if we have a class imbalance in the dataset? If so, what do you reckon will be the downstream challenges in evaluating the model? How will you overcome those challenges?\n",
    "9.   What does \"None\" value mean for feature? Should we include these features?"
   ],
   "metadata": {
    "id": "P-bVRyzjR-dU"
   }
  },
  {
   "cell_type": "markdown",
   "source": [
    "\n",
    "**GOOD PRACTICE**: To make your plots accessible to everyone, it is always a good idea to use colorblind-friendly palette for your plots. Check out [this](https://medium.com/cafe-pixo/inclusive-color-palettes-for-the-web-bbfe8cf2410e) for such a palette."
   ],
   "metadata": {
    "id": "IQRohLR0R8wd"
   }
  },
  {
   "cell_type": "markdown",
   "source": [
    "# Feature Engineering\n",
    "\n",
    "In this section, we will transform the features that models can operate upon. Note that this transformation doesn't have to be unique. \n",
    "It is very much dependent on the type of model you are building. \n",
    "\n",
    "Here is the list of questions to guide your feature engineering task \n",
    "\n",
    "1.   How will you represent the features in numerical format that can be accessible by model? \n",
    "2.   Are there any redundancies in your feature representation?\n",
    "3.   How will you represent targets in a format accessible to the model?\n",
    "\n",
    "Check out [`sklearn`'s preprocessing library](https://scikit-learn.org/stable/modules/preprocessing.html) for easy-to-use functions to do this. "
   ],
   "metadata": {
    "id": "GLRMrojV__Se"
   }
  },
  {
   "cell_type": "code",
   "execution_count": 229,
   "source": [
    "def normalize(x):\r\n",
    "  \"\"\"\r\n",
    "  Normalizes the input to integer type. It maps \"None\" to 2.\r\n",
    "  Args:\r\n",
    "    x (int or str): input to be normalized \r\n",
    "  Returns:\r\n",
    "    (int): normalized input\r\n",
    "  \"\"\"\r\n",
    "  if type(x) == str:\r\n",
    "    if x == 'Yes':\r\n",
    "      x = int(1)\r\n",
    "    elif x == 'No':\r\n",
    "      x = int(0)\r\n",
    "    return int(x) if x != \"None\" else 2\r\n",
    "  return x"
   ],
   "outputs": [],
   "metadata": {}
  },
  {
   "cell_type": "code",
   "execution_count": 246,
   "source": [
    "\r\n",
    "def preprocess(data, input_features, target_columns): #, encoder, lb):\r\n",
    "  \"\"\"\r\n",
    "  Transforms `data` into format required for model building\r\n",
    "\r\n",
    "  Args:\r\n",
    "    data (pd.DataFrame): dataframe with columns `INPUT_FEAUTURES` and `TARGET_COLUMN`\r\n",
    "    encoder (sklearn.preprocessing.OneHotEncoder): A fitted OneHotEncoder to be used to transform `INPUT_FEATURES`\r\n",
    "    lb (sklearn.preprocessing.LabelBinarizer): A fitted LabelBinarizer to be used to transform `TARGET_COLUMN`\r\n",
    "  \r\n",
    "  Returns:\r\n",
    "    model_input (np.array): each row is an observation, columns are one-hot encoded features of `INPUT_FEATURES`\r\n",
    "    model_target (np.array): 1D array with 1 where `TARGET_COLUMN` is \"positive\" and 0 otherwise.\r\n",
    "  \"\"\"\r\n",
    " \r\n",
    " # Clean values, turning all values into ints to consolidate duplicate values.\r\n",
    "  for col in ['cough', 'fever', 'sore_throat', 'shortness_of_breath', 'head_ache']:\r\n",
    "    training_data.loc[:,col] = training_data[col].apply(normalize)\r\n",
    "\r\n",
    "  lb = LabelBinarizer()\r\n",
    "  lb.fit(training_data['corona_result'])\r\n",
    "\r\n",
    "  encoder = OneHotEncoder(drop='first').fit(training_data[input_features]) \r\n",
    "    \r\n",
    "  model_input = encoder.transform(data[input_features]).todense()\r\n",
    "  model_target = lb.transform(data[target_columns]).flatten() \r\n",
    "\r\n",
    "  return model_input, model_target\r\n"
   ],
   "outputs": [],
   "metadata": {
    "id": "cGLQMUmWWKch"
   }
  },
  {
   "cell_type": "code",
   "execution_count": 248,
   "source": [
    "X_train, y_train = preprocess(training_data, INPUT_FEATURES, TARGET_COLUMN)\r\n",
    "X_valid, y_valid = preprocess(valid_data, INPUT_FEATURES, TARGET_COLUMN)"
   ],
   "outputs": [
    {
     "output_type": "stream",
     "name": "stderr",
     "text": [
      "C:\\Users\\kzdw314\\AppData\\Local\\Programs\\Python\\Python39\\lib\\site-packages\\pandas\\core\\indexing.py:1773: SettingWithCopyWarning: \n",
      "A value is trying to be set on a copy of a slice from a DataFrame.\n",
      "Try using .loc[row_indexer,col_indexer] = value instead\n",
      "\n",
      "See the caveats in the documentation: https://pandas.pydata.org/pandas-docs/stable/user_guide/indexing.html#returning-a-view-versus-a-copy\n",
      "  self._setitem_single_column(ilocs[0], value, pi)\n",
      "C:\\Users\\kzdw314\\AppData\\Local\\Programs\\Python\\Python39\\lib\\site-packages\\pandas\\core\\indexing.py:1773: SettingWithCopyWarning: \n",
      "A value is trying to be set on a copy of a slice from a DataFrame.\n",
      "Try using .loc[row_indexer,col_indexer] = value instead\n",
      "\n",
      "See the caveats in the documentation: https://pandas.pydata.org/pandas-docs/stable/user_guide/indexing.html#returning-a-view-versus-a-copy\n",
      "  self._setitem_single_column(ilocs[0], value, pi)\n"
     ]
    }
   ],
   "metadata": {}
  },
  {
   "cell_type": "code",
   "execution_count": null,
   "source": [],
   "outputs": [],
   "metadata": {}
  },
  {
   "cell_type": "markdown",
   "source": [
    "# Model building\n",
    "\n",
    "In this section, we will build various classifiers using `sklearn`. You do not have to restrict yourself to `sklearn`. Please feel free to use any other library.\n",
    "\n",
    "**TRY:**  Try various classifiers that you have learned so far.\n",
    "Here is the list of models to try :\n",
    "\n",
    "*  Logistic Regssion: [User Guide](https://scikit-learn.org/stable/modules/linear_model.html#logistic-regression). [API](https://scikit-learn.org/stable/modules/generated/sklearn.linear_model.LogisticRegression.html).\n",
    "*   Decision Trees: [User Guide](https://scikit-learn.org/stable/modules/tree.html#classification). [API](https://scikit-learn.org/stable/modules/generated/sklearn.tree.DecisionTreeClassifier.html#sklearn.tree.DecisionTreeClassifier). You can head down in the User Guide to [other Tree algorithms](https://scikit-learn.org/stable/modules/tree.html#tree-algorithms-id3-c4-5-c5-0-and-cart) if you fancy. \n",
    "*   Categorical Naive Bayes.[User Guide](https://scikit-learn.org/stable/modules/naive_bayes.html#categorical-naive-bayes). [API](https://scikit-learn.org/stable/modules/generated/sklearn.naive_bayes.CategoricalNB.html#sklearn.naive_bayes.CategoricalNB)\n",
    "*   Linear Discriminant Analysis. [User Guide](https://scikit-learn.org/stable/modules/lda_qda.html#). [API](https://scikit-learn.org/stable/modules/generated/sklearn.discriminant_analysis.LinearDiscriminantAnalysis.html#sklearn.discriminant_analysis.LinearDiscriminantAnalysis)\n",
    "*   Quadratic Discriminant Analysis. [User Guide](https://scikit-learn.org/stable/modules/lda_qda.html#). [API](https://scikit-learn.org/stable/modules/generated/sklearn.discriminant_analysis.QuadraticDiscriminantAnalysis.html#sklearn.discriminant_analysis.QuadraticDiscriminantAnalysis)\n",
    "*   Support Vector Machines. [User Guide](https://scikit-learn.org/stable/modules/svm.html#classification). [API](https://scikit-learn.org/stable/modules/generated/sklearn.svm.SVC.html#sklearn.svm.SVC)\n",
    "*   Nearest neighbors classification. [User Guide](https://scikit-learn.org/stable/modules/neighbors.html#nearest-neighbors-classification). [API](https://scikit-learn.org/stable/modules/generated/sklearn.neighbors.KNeighborsClassifier.html#sklearn.neighbors.KNeighborsClassifier)\n",
    "*   Neural networks - Multi-layer Perceptron (MLP). [User Guide](https://scikit-learn.org/stable/modules/neural_networks_supervised.html#multi-layer-perceptron). [API](https://scikit-learn.org/stable/modules/generated/sklearn.neural_network.MLPClassifier.html#sklearn.neural_network.MLPClassifier)\n",
    "\n"
   ],
   "metadata": {
    "id": "5N6PYvo8NUuE"
   }
  },
  {
   "cell_type": "code",
   "execution_count": 234,
   "source": [
    "from sklearn.linear_model import LogisticRegression\r\n",
    "from sklearn.tree import DecisionTreeClassifier\r\n",
    "from sklearn.ensemble import RandomForestClassifier\r\n",
    "from sklearn.neighbors import KNeighborsClassifier\r\n",
    "\r\n",
    "lr = LogisticRegression()\r\n",
    "lr.fit(X_train, y_train)\r\n",
    "print(\"Logistic Regression score: \", lr.score(X_train, y_train))\r\n",
    "\r\n",
    "# dtc = DecisionTreeClassifier()\r\n",
    "# dtc.fit(X_train, y_train)\r\n",
    "# print(\"Decision Tree score: \", dtc.score(X_train, y_train))\r\n",
    "\r\n",
    "# rf = RandomForestClassifier()\r\n",
    "# rf.fit(X_train, y_train)\r\n",
    "# print(\"Random forest score: \", rf.score(X_train, y_train))\r\n",
    "\r\n",
    "# knn = KNeighborsClassifier()\r\n",
    "# knn.fit(X_train, y_train)\r\n",
    "# knn.score(X_train, y_train)\r\n"
   ],
   "outputs": [
    {
     "output_type": "error",
     "ename": "ValueError",
     "evalue": "Found input variables with inconsistent numbers of samples: [163189, 489567]",
     "traceback": [
      "\u001b[1;31m---------------------------------------------------------------------------\u001b[0m",
      "\u001b[1;31mValueError\u001b[0m                                Traceback (most recent call last)",
      "\u001b[1;32m~\\AppData\\Local\\Temp/ipykernel_1792/3486090194.py\u001b[0m in \u001b[0;36m<module>\u001b[1;34m\u001b[0m\n\u001b[0;32m      5\u001b[0m \u001b[1;33m\u001b[0m\u001b[0m\n\u001b[0;32m      6\u001b[0m \u001b[0mlr\u001b[0m \u001b[1;33m=\u001b[0m \u001b[0mLogisticRegression\u001b[0m\u001b[1;33m(\u001b[0m\u001b[1;33m)\u001b[0m\u001b[1;33m\u001b[0m\u001b[1;33m\u001b[0m\u001b[0m\n\u001b[1;32m----> 7\u001b[1;33m \u001b[0mlr\u001b[0m\u001b[1;33m.\u001b[0m\u001b[0mfit\u001b[0m\u001b[1;33m(\u001b[0m\u001b[0mX_train\u001b[0m\u001b[1;33m,\u001b[0m \u001b[0my_train\u001b[0m\u001b[1;33m)\u001b[0m\u001b[1;33m\u001b[0m\u001b[1;33m\u001b[0m\u001b[0m\n\u001b[0m\u001b[0;32m      8\u001b[0m \u001b[0mprint\u001b[0m\u001b[1;33m(\u001b[0m\u001b[1;34m\"Logistic Regression score: \"\u001b[0m\u001b[1;33m,\u001b[0m \u001b[0mlr\u001b[0m\u001b[1;33m.\u001b[0m\u001b[0mscore\u001b[0m\u001b[1;33m(\u001b[0m\u001b[0mX_train\u001b[0m\u001b[1;33m,\u001b[0m \u001b[0my_train\u001b[0m\u001b[1;33m)\u001b[0m\u001b[1;33m)\u001b[0m\u001b[1;33m\u001b[0m\u001b[1;33m\u001b[0m\u001b[0m\n\u001b[0;32m      9\u001b[0m \u001b[1;33m\u001b[0m\u001b[0m\n",
      "\u001b[1;32m~\\AppData\\Local\\Programs\\Python\\Python39\\lib\\site-packages\\sklearn\\linear_model\\_logistic.py\u001b[0m in \u001b[0;36mfit\u001b[1;34m(self, X, y, sample_weight)\u001b[0m\n\u001b[0;32m   1342\u001b[0m             \u001b[0m_dtype\u001b[0m \u001b[1;33m=\u001b[0m \u001b[1;33m[\u001b[0m\u001b[0mnp\u001b[0m\u001b[1;33m.\u001b[0m\u001b[0mfloat64\u001b[0m\u001b[1;33m,\u001b[0m \u001b[0mnp\u001b[0m\u001b[1;33m.\u001b[0m\u001b[0mfloat32\u001b[0m\u001b[1;33m]\u001b[0m\u001b[1;33m\u001b[0m\u001b[1;33m\u001b[0m\u001b[0m\n\u001b[0;32m   1343\u001b[0m \u001b[1;33m\u001b[0m\u001b[0m\n\u001b[1;32m-> 1344\u001b[1;33m         X, y = self._validate_data(X, y, accept_sparse='csr', dtype=_dtype,\n\u001b[0m\u001b[0;32m   1345\u001b[0m                                    \u001b[0morder\u001b[0m\u001b[1;33m=\u001b[0m\u001b[1;34m\"C\"\u001b[0m\u001b[1;33m,\u001b[0m\u001b[1;33m\u001b[0m\u001b[1;33m\u001b[0m\u001b[0m\n\u001b[0;32m   1346\u001b[0m                                    accept_large_sparse=solver != 'liblinear')\n",
      "\u001b[1;32m~\\AppData\\Local\\Programs\\Python\\Python39\\lib\\site-packages\\sklearn\\base.py\u001b[0m in \u001b[0;36m_validate_data\u001b[1;34m(self, X, y, reset, validate_separately, **check_params)\u001b[0m\n\u001b[0;32m    431\u001b[0m                 \u001b[0my\u001b[0m \u001b[1;33m=\u001b[0m \u001b[0mcheck_array\u001b[0m\u001b[1;33m(\u001b[0m\u001b[0my\u001b[0m\u001b[1;33m,\u001b[0m \u001b[1;33m**\u001b[0m\u001b[0mcheck_y_params\u001b[0m\u001b[1;33m)\u001b[0m\u001b[1;33m\u001b[0m\u001b[1;33m\u001b[0m\u001b[0m\n\u001b[0;32m    432\u001b[0m             \u001b[1;32melse\u001b[0m\u001b[1;33m:\u001b[0m\u001b[1;33m\u001b[0m\u001b[1;33m\u001b[0m\u001b[0m\n\u001b[1;32m--> 433\u001b[1;33m                 \u001b[0mX\u001b[0m\u001b[1;33m,\u001b[0m \u001b[0my\u001b[0m \u001b[1;33m=\u001b[0m \u001b[0mcheck_X_y\u001b[0m\u001b[1;33m(\u001b[0m\u001b[0mX\u001b[0m\u001b[1;33m,\u001b[0m \u001b[0my\u001b[0m\u001b[1;33m,\u001b[0m \u001b[1;33m**\u001b[0m\u001b[0mcheck_params\u001b[0m\u001b[1;33m)\u001b[0m\u001b[1;33m\u001b[0m\u001b[1;33m\u001b[0m\u001b[0m\n\u001b[0m\u001b[0;32m    434\u001b[0m             \u001b[0mout\u001b[0m \u001b[1;33m=\u001b[0m \u001b[0mX\u001b[0m\u001b[1;33m,\u001b[0m \u001b[0my\u001b[0m\u001b[1;33m\u001b[0m\u001b[1;33m\u001b[0m\u001b[0m\n\u001b[0;32m    435\u001b[0m \u001b[1;33m\u001b[0m\u001b[0m\n",
      "\u001b[1;32m~\\AppData\\Local\\Programs\\Python\\Python39\\lib\\site-packages\\sklearn\\utils\\validation.py\u001b[0m in \u001b[0;36minner_f\u001b[1;34m(*args, **kwargs)\u001b[0m\n\u001b[0;32m     61\u001b[0m             \u001b[0mextra_args\u001b[0m \u001b[1;33m=\u001b[0m \u001b[0mlen\u001b[0m\u001b[1;33m(\u001b[0m\u001b[0margs\u001b[0m\u001b[1;33m)\u001b[0m \u001b[1;33m-\u001b[0m \u001b[0mlen\u001b[0m\u001b[1;33m(\u001b[0m\u001b[0mall_args\u001b[0m\u001b[1;33m)\u001b[0m\u001b[1;33m\u001b[0m\u001b[1;33m\u001b[0m\u001b[0m\n\u001b[0;32m     62\u001b[0m             \u001b[1;32mif\u001b[0m \u001b[0mextra_args\u001b[0m \u001b[1;33m<=\u001b[0m \u001b[1;36m0\u001b[0m\u001b[1;33m:\u001b[0m\u001b[1;33m\u001b[0m\u001b[1;33m\u001b[0m\u001b[0m\n\u001b[1;32m---> 63\u001b[1;33m                 \u001b[1;32mreturn\u001b[0m \u001b[0mf\u001b[0m\u001b[1;33m(\u001b[0m\u001b[1;33m*\u001b[0m\u001b[0margs\u001b[0m\u001b[1;33m,\u001b[0m \u001b[1;33m**\u001b[0m\u001b[0mkwargs\u001b[0m\u001b[1;33m)\u001b[0m\u001b[1;33m\u001b[0m\u001b[1;33m\u001b[0m\u001b[0m\n\u001b[0m\u001b[0;32m     64\u001b[0m \u001b[1;33m\u001b[0m\u001b[0m\n\u001b[0;32m     65\u001b[0m             \u001b[1;31m# extra_args > 0\u001b[0m\u001b[1;33m\u001b[0m\u001b[1;33m\u001b[0m\u001b[1;33m\u001b[0m\u001b[0m\n",
      "\u001b[1;32m~\\AppData\\Local\\Programs\\Python\\Python39\\lib\\site-packages\\sklearn\\utils\\validation.py\u001b[0m in \u001b[0;36mcheck_X_y\u001b[1;34m(X, y, accept_sparse, accept_large_sparse, dtype, order, copy, force_all_finite, ensure_2d, allow_nd, multi_output, ensure_min_samples, ensure_min_features, y_numeric, estimator)\u001b[0m\n\u001b[0;32m    886\u001b[0m         \u001b[0my\u001b[0m \u001b[1;33m=\u001b[0m \u001b[0my\u001b[0m\u001b[1;33m.\u001b[0m\u001b[0mastype\u001b[0m\u001b[1;33m(\u001b[0m\u001b[0mnp\u001b[0m\u001b[1;33m.\u001b[0m\u001b[0mfloat64\u001b[0m\u001b[1;33m)\u001b[0m\u001b[1;33m\u001b[0m\u001b[1;33m\u001b[0m\u001b[0m\n\u001b[0;32m    887\u001b[0m \u001b[1;33m\u001b[0m\u001b[0m\n\u001b[1;32m--> 888\u001b[1;33m     \u001b[0mcheck_consistent_length\u001b[0m\u001b[1;33m(\u001b[0m\u001b[0mX\u001b[0m\u001b[1;33m,\u001b[0m \u001b[0my\u001b[0m\u001b[1;33m)\u001b[0m\u001b[1;33m\u001b[0m\u001b[1;33m\u001b[0m\u001b[0m\n\u001b[0m\u001b[0;32m    889\u001b[0m \u001b[1;33m\u001b[0m\u001b[0m\n\u001b[0;32m    890\u001b[0m     \u001b[1;32mreturn\u001b[0m \u001b[0mX\u001b[0m\u001b[1;33m,\u001b[0m \u001b[0my\u001b[0m\u001b[1;33m\u001b[0m\u001b[1;33m\u001b[0m\u001b[0m\n",
      "\u001b[1;32m~\\AppData\\Local\\Programs\\Python\\Python39\\lib\\site-packages\\sklearn\\utils\\validation.py\u001b[0m in \u001b[0;36mcheck_consistent_length\u001b[1;34m(*arrays)\u001b[0m\n\u001b[0;32m    317\u001b[0m     \u001b[0muniques\u001b[0m \u001b[1;33m=\u001b[0m \u001b[0mnp\u001b[0m\u001b[1;33m.\u001b[0m\u001b[0munique\u001b[0m\u001b[1;33m(\u001b[0m\u001b[0mlengths\u001b[0m\u001b[1;33m)\u001b[0m\u001b[1;33m\u001b[0m\u001b[1;33m\u001b[0m\u001b[0m\n\u001b[0;32m    318\u001b[0m     \u001b[1;32mif\u001b[0m \u001b[0mlen\u001b[0m\u001b[1;33m(\u001b[0m\u001b[0muniques\u001b[0m\u001b[1;33m)\u001b[0m \u001b[1;33m>\u001b[0m \u001b[1;36m1\u001b[0m\u001b[1;33m:\u001b[0m\u001b[1;33m\u001b[0m\u001b[1;33m\u001b[0m\u001b[0m\n\u001b[1;32m--> 319\u001b[1;33m         raise ValueError(\"Found input variables with inconsistent numbers of\"\n\u001b[0m\u001b[0;32m    320\u001b[0m                          \" samples: %r\" % [int(l) for l in lengths])\n\u001b[0;32m    321\u001b[0m \u001b[1;33m\u001b[0m\u001b[0m\n",
      "\u001b[1;31mValueError\u001b[0m: Found input variables with inconsistent numbers of samples: [163189, 489567]"
     ]
    }
   ],
   "metadata": {}
  },
  {
   "cell_type": "markdown",
   "source": [
    "# Evaluate Model\n",
    "\n",
    "In this section, we will evaluate our model's performance on the validation dataset. \n",
    "\n",
    "Here are the list of questions to think about while deciding how to evaluate your model - \n",
    "*   Is accuracy the right metric to evaluate the model? Are inaccuracies correctly penalized in the accuracy metric?\n",
    "*  Would you think that the cost of false negative is more than the false positive? Is it dependent on the application?\n",
    "*  Which metric will minimize false negatives and false positives?\n",
    "*   Which dataset should you chose to evaluate the model? Validation or Test?\n",
    "What other metric is relevant in our context?  \n",
    "\n",
    "For benchmarking everyone’s results we will stick to ROC AUC score as a metric. \n",
    "There are standard functions to compute these scores in `sklearn`, so we will use them. \n",
    "Specifically, we will be using [`roc_auc_score`](https://scikit-learn.org/stable/modules/generated/sklearn.metrics.roc_auc_score.html#sklearn.metrics.roc_auc_score) and [`plot_roc_curve`](https://scikit-learn.org/stable/modules/generated/sklearn.metrics.plot_roc_curve.html).\n"
   ],
   "metadata": {
    "id": "bZSS0TyANfG1"
   }
  },
  {
   "cell_type": "code",
   "execution_count": 194,
   "source": [
    "def evaluate(model, X, Y):\r\n",
    "  \"\"\"\r\n",
    "  Returns the AUC-ROC for `model` as evaluated on (X, Y)\r\n",
    "\r\n",
    "  Args:\r\n",
    "    model (): Any model that has a function predict_proba and returns probability for each row in `X`.\r\n",
    "    X (np.array): Input to the model containing feature values\r\n",
    "    Y (np.array): 1D array containing true class i.e. 0 or 1\r\n",
    "  \r\n",
    "  Returns:\r\n",
    "    (float): AUC ROC for the model\r\n",
    "  \"\"\"\r\n",
    "\r\n",
    "  y_score = model.predict_proba(X) # (n_samples, n_clases) with each value being the probability of being in that class\r\n",
    "  return roc_auc_score(y_true=Y, y_score=y_score[:, 1])\r\n",
    "\r\n",
    "print( 'LR score train: ', evaluate(lr, X_train, y_train) )\r\n",
    "print( 'DTC score train: ', evaluate(dtc, X_train, y_train) )\r\n",
    "print( 'RF score train: ', evaluate(rf, X_train, y_train) )\r\n",
    "# print( 'knn score train: ', evaluate(knn, X_train, y_train) )"
   ],
   "outputs": [
    {
     "output_type": "stream",
     "name": "stdout",
     "text": [
      "LR score train:  0.8990602419946635\n",
      "LR score valid:  0.82602918308811\n",
      "DTC score train:  0.9197129777640092\n",
      "DTC score valid:  0.8166051160298665\n",
      "RF score train:  0.9196529416937099\n",
      "RF score valid:  0.8422993516830831\n",
      "knn score train:  0.8721130623224342\n",
      "knn score valid:  0.7904165154306139\n"
     ]
    }
   ],
   "metadata": {
    "id": "5TGfy0kYV7pM"
   }
  },
  {
   "cell_type": "markdown",
   "source": [
    "# Hyperparameter Search\n",
    "\n",
    "In this section we will be searching for the best parameters to build our models. \n",
    "This is where we will use our validation dataset. \n",
    "\n",
    "\n"
   ],
   "metadata": {
    "id": "6n0jr-EekESj"
   }
  },
  {
   "cell_type": "markdown",
   "source": [
    "Hyperparameter search can become messy if you have lots of paramters. \n",
    "A brute force method to do such a search will be to do a grid search to fit tons of models. \n",
    "Thus, a smarter way to do hyperparameter search has been the subject of research. \n",
    "\n",
    "**TRY:** If interested, read [here](https://scikit-learn.org/stable/modules/grid_search.html) for more details and incorporate some of those ideas in the model building process. "
   ],
   "metadata": {
    "id": "uqSd5Bo3chPT"
   }
  },
  {
   "cell_type": "markdown",
   "source": [
    "# Report your results\n",
    "\n",
    "**NOTE:** You should use the test dataset only when you are done with hyperparameter search on your model. \n",
    "This is because the test dataset is not involved in the model building process, thereby making sure that the performance evaluation on the test dataset measures how well the proposed model is able to generalize."
   ],
   "metadata": {
    "id": "UkB6mMuSkkmN"
   }
  },
  {
   "cell_type": "code",
   "execution_count": null,
   "source": [
    "X_test, Y_test = preprocess(test_data, encoder, lb)\r\n",
    "auc_score = evaluate(best_model, X_test, Y_test)\r\n",
    "print(f\"AUC-ROC on the test dataset:{auc_score}\")\r\n"
   ],
   "outputs": [
    {
     "output_type": "stream",
     "name": "stdout",
     "text": [
      "AUC-ROC on the test dataset:0.8114507841261618\n"
     ]
    }
   ],
   "metadata": {
    "id": "pxqeBPIMko9Z",
    "colab": {
     "base_uri": "https://localhost:8080/"
    },
    "outputId": "b36d385f-50bf-4abe-c447-27861025a9f0"
   }
  },
  {
   "cell_type": "markdown",
   "source": [
    "Is this the end?\n",
    "\n",
    "What do you need to do to make the model practically applicable? How would you use this model in the real life?"
   ],
   "metadata": {
    "id": "CmnEnKthyBGz"
   }
  },
  {
   "cell_type": "markdown",
   "source": [
    "# Collaborate with Ensemble \n",
    "\n",
    "You can combine various models to form an ensemble model. \n",
    "There are various ways to combine these models. \n",
    "All of them serve a particular purpose (e.g. reducing variance, increasing accuracy. etc.). \n",
    "\n",
    "The simplest example of an ensemble is to combine the constituent models via voting. This can be done in two ways:\n",
    "*  soft voting - likelihood of the input belonging to a class is the mean of the likelihood predicted by the constituent models, \n",
    "*  hard-voting - likelihood of the input belonging to a class is determined by frequency of the constutuent models predicting that class for the input.\n",
    "\n",
    "Thus, if you are working in a team, let each member try out different models. At the end, combine your models and make an ensemble model. \n",
    "\n",
    "Here is the [User Guide](https://scikit-learn.org/stable/modules/ensemble.html#voting-classifier) and [API](https://scikit-learn.org/stable/modules/generated/sklearn.ensemble.VotingClassifier.html#sklearn.ensemble.VotingClassifier) for making such an ensemble model."
   ],
   "metadata": {
    "id": "f5sO-B1-BnFz"
   }
  },
  {
   "cell_type": "markdown",
   "source": [
    "# Extras: Class imbalance\n",
    "\n",
    "**TRY:** \n",
    " Why not try resampling techniques to optimize for ROC AUC?\n",
    "\n",
    "\n",
    "\n"
   ],
   "metadata": {
    "id": "awguX_CZs17n"
   }
  },
  {
   "cell_type": "markdown",
   "source": [
    "# Extras: Dimensionality Reduction\n",
    "\n",
    "**TRY:** You can try dimensionality reduction from 16 dimensions to just 2 dimensions and visualize 2D plot with just two categories - \"positive\" and \"negative\". \n",
    "To do this, try various dimension reduction techniques, for example, [LDA](https://scikit-learn.org/stable/modules/lda_qda.html#mathematical-formulation-of-lda-dimensionality-reduction), [PCA](https://scikit-learn.org/stable/modules/generated/sklearn.decomposition.PCA.html#sklearn.decomposition.PCA), [t-SNE](https://scikit-learn.org/stable/modules/generated/sklearn.manifold.TSNE.html). \n"
   ],
   "metadata": {
    "id": "jRQOtp3sNoKq"
   }
  },
  {
   "cell_type": "markdown",
   "source": [
    "# Poster template \r\n",
    "\r\n",
    "It is often the most difficult task to communicate the project's finding concisely in 1 minute or in a 1 slide. \r\n",
    "Therefore, our suggestion will be to touch upon the following points in your poster -  \r\n",
    "\r\n",
    "1. Briefly define the problem\r\n",
    "2. Briefly describe the dataset \r\n",
    "3. What did you learn about various models/techniques/etc.? e.g. \r\n",
    "4. What's the auc score of your final model did you get?\r\n",
    "\r\n",
    "If you want to learn what matters in building such posters, check out this great [YouTube video](https://www.youtube.com/watch?v=1RwJbhkCA58).\r\n",
    "Specifically, we should try and avoid posters with a lot of stuff to avoid cognitive overload. \r\n",
    "The templates suggested in the video can be found [here](https://osf.io/ef53g/). \r\n",
    "Note these are for academic papers, however, you can follow a similar ideology to concizsely display your work. "
   ],
   "metadata": {}
  },
  {
   "cell_type": "markdown",
   "source": [],
   "metadata": {}
  },
  {
   "cell_type": "code",
   "execution_count": null,
   "source": [
    "# from gian\r\n",
    "M = list()\r\n",
    "M.append(('lr', LogisticRegression(C= 1.0, penalty='l2', solver= 'newton-cg'))) \r\n",
    "M.append(('rf', RandomForestClassifier(max_depth= 5, min_samples_split= 2, n_estimators= 20)))\r\n",
    "M.append(('knn', KNeighborsClassifier(n_neighbors=19, weights = 'uniform')))\r\n",
    "E = VotingClassifier(estimators=M, voting='hard')\r\n",
    "ENSEMBLE=E.fit(X_train,y_train)\r\n",
    "ensemble_pred=ENSEMBLE.predict(X_test)\r\n",
    "roc_auc_score(y_test,ensemble_pred)\r\n"
   ],
   "outputs": [],
   "metadata": {}
  }
 ],
 "metadata": {
  "orig_nbformat": 4,
  "language_info": {
   "name": "python",
   "version": "3.9.6",
   "mimetype": "text/x-python",
   "codemirror_mode": {
    "name": "ipython",
    "version": 3
   },
   "pygments_lexer": "ipython3",
   "nbconvert_exporter": "python",
   "file_extension": ".py"
  },
  "kernelspec": {
   "name": "python3",
   "display_name": "Python 3.9.6 64-bit"
  },
  "interpreter": {
   "hash": "ed2bf37353a0f474d951c84d2fc775e1ceba4935d8b0ef9d3a9862c30075ecf0"
  }
 },
 "nbformat": 4,
 "nbformat_minor": 2
}