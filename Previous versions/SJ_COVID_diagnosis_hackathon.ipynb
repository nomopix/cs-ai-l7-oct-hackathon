{
  "nbformat": 4,
  "nbformat_minor": 2,
  "metadata": {
    "colab": {
      "name": "Copy of COVID-diagnosis-hackathon.ipynb",
      "provenance": [],
      "collapsed_sections": []
    },
    "kernelspec": {
      "name": "python3",
      "display_name": "Python 3.8.2 64-bit ('base': conda)"
    },
    "language_info": {
      "name": "python",
      "version": "3.8.2",
      "mimetype": "text/x-python",
      "codemirror_mode": {
        "name": "ipython",
        "version": 3
      },
      "pygments_lexer": "ipython3",
      "nbconvert_exporter": "python",
      "file_extension": ".py"
    },
    "interpreter": {
      "hash": "37f4dd28de95b17b67304603f90941eb68722fbf5e84f921fda20c0ceaf3f7a7"
    }
  },
  "cells": [
    {
      "cell_type": "markdown",
      "source": [
        "# Covid-19 diagnosis using symptoms\n",
        "\n",
        "[Prateek Gupta](https://www.pgupta.info) \n",
        "\n",
        "2020-05-20\n",
        "\n",
        "**Abstract:** This notebook is a tutorial on building a typical machine learning classifier. \n",
        "The process of doing so spans steps ranging from data wrangling to model selection. \n",
        "With the help of each of these steps we hope to make the reader familiar with challenges involved in building a machine learning system. \n",
        "\n",
        "# Question\n",
        "\n",
        "In this hackathon, we want to build a machine learning model to predict COVID-19 infections from symptoms.\n",
        "It has several applications, for example, triaging patients to be attended to by a doctor or nurse, recommending self-isolation through contact tracing apps. \n",
        "\n",
        "Zoabi et al. [[1]](https://www.nature.com/articles/s41746-020-00372-6) builds a decision tree classifier using the publicly available data reported by the Israeli Ministry of Health.\n",
        "The paper itself dicsusses the various challenges encountered in deploying such a model. \n",
        "It is encouraged to read the paper and learn the challeges and ways to overcome them. \n",
        "\n",
        "However, in this hackathon, we will use their dataset and make the participant familiar with a typical pipeline of building a machine learning system.\n",
        "\n",
        "[1] [Zoabi, Y., Deri-Rozov, S. & Shomron, N. Machine learning-based prediction of COVID-19 diagnosis based on symptoms. npj Digit. Med. 4, 3 (2021).]((https://www.nature.com/articles/s41746-020-00372-6))\n"
      ],
      "metadata": {
        "id": "GFzda9am9vnj"
      }
    },
    {
      "cell_type": "markdown",
      "source": [
        "# Setup the workspace\n",
        "\n",
        "We will clone their Git repository to to use their dataset"
      ],
      "metadata": {
        "id": "WfQWCQDjAKN0"
      }
    },
    {
      "cell_type": "code",
      "execution_count": 98,
      "source": [
        "!git clone https://github.com/nshomron/covidpred.git"
      ],
      "outputs": [
        {
          "output_type": "stream",
          "name": "stdout",
          "text": [
            "fatal: destination path 'covidpred' already exists and is not an empty directory.\n"
          ]
        }
      ],
      "metadata": {
        "colab": {
          "base_uri": "https://localhost:8080/"
        },
        "id": "yguOIEDX-YbD",
        "outputId": "e7b0bf22-94ce-45da-8fb7-6b93f78b4fa1"
      }
    },
    {
      "cell_type": "code",
      "execution_count": 99,
      "source": [
        "import pandas as pd\n",
        "import math\n",
        "import numpy as np\n",
        "\n",
        "from sklearn.preprocessing import OneHotEncoder\n",
        "from sklearn.preprocessing import LabelBinarizer\n",
        "from sklearn.linear_model import LogisticRegression\n",
        "from sklearn.metrics import plot_roc_curve, roc_auc_score, roc_curve\n",
        "\n",
        "import matplotlib.pyplot as plt\n",
        "from matplotlib.lines import Line2D"
      ],
      "outputs": [],
      "metadata": {
        "id": "35jfRmroICGw"
      }
    },
    {
      "cell_type": "markdown",
      "source": [
        "# Data \n",
        "\n",
        "Let's check how the data looks like and how various features are encoded. "
      ],
      "metadata": {
        "id": "kv6FR_gOAV16"
      }
    },
    {
      "cell_type": "code",
      "execution_count": 100,
      "source": [
        "df = pd.read_csv('covidpred/data/corona_tested_individuals_ver_006.english.csv.zip')"
      ],
      "outputs": [
        {
          "output_type": "stream",
          "name": "stderr",
          "text": [
            "/Users/jennis02/miniconda3/lib/python3.8/site-packages/IPython/core/interactiveshell.py:3169: DtypeWarning: Columns (1,2,3,4,5) have mixed types.Specify dtype option on import or set low_memory=False.\n",
            "  has_raised = await self.run_ast_nodes(code_ast.body, cell_name,\n"
          ]
        }
      ],
      "metadata": {
        "colab": {
          "base_uri": "https://localhost:8080/"
        },
        "id": "P7tANpd5-tqj",
        "outputId": "98096b64-c733-4c43-8cbe-4d3f5abcea3f"
      }
    },
    {
      "cell_type": "code",
      "execution_count": 101,
      "source": [
        "df.info() # No nulls"
      ],
      "outputs": [
        {
          "output_type": "stream",
          "name": "stdout",
          "text": [
            "<class 'pandas.core.frame.DataFrame'>\n",
            "RangeIndex: 278848 entries, 0 to 278847\n",
            "Data columns (total 10 columns):\n",
            " #   Column               Non-Null Count   Dtype \n",
            "---  ------               --------------   ----- \n",
            " 0   test_date            278848 non-null  object\n",
            " 1   cough                278848 non-null  object\n",
            " 2   fever                278848 non-null  object\n",
            " 3   sore_throat          278848 non-null  object\n",
            " 4   shortness_of_breath  278848 non-null  object\n",
            " 5   head_ache            278848 non-null  object\n",
            " 6   corona_result        278848 non-null  object\n",
            " 7   age_60_and_above     278848 non-null  object\n",
            " 8   gender               278848 non-null  object\n",
            " 9   test_indication      278848 non-null  object\n",
            "dtypes: object(10)\n",
            "memory usage: 21.3+ MB\n"
          ]
        }
      ],
      "metadata": {
        "colab": {
          "base_uri": "https://localhost:8080/"
        },
        "id": "LXaLQdbBAElY",
        "outputId": "3501d509-7250-496e-bb59-cfc5d9249d81"
      }
    },
    {
      "cell_type": "code",
      "execution_count": 102,
      "source": [
        "df.head()\n",
        "# We need to one hot encode corona_result, age_60_and_above, gender and test_indication"
      ],
      "outputs": [
        {
          "output_type": "execute_result",
          "data": {
            "text/html": [
              "<div>\n",
              "<style scoped>\n",
              "    .dataframe tbody tr th:only-of-type {\n",
              "        vertical-align: middle;\n",
              "    }\n",
              "\n",
              "    .dataframe tbody tr th {\n",
              "        vertical-align: top;\n",
              "    }\n",
              "\n",
              "    .dataframe thead th {\n",
              "        text-align: right;\n",
              "    }\n",
              "</style>\n",
              "<table border=\"1\" class=\"dataframe\">\n",
              "  <thead>\n",
              "    <tr style=\"text-align: right;\">\n",
              "      <th></th>\n",
              "      <th>test_date</th>\n",
              "      <th>cough</th>\n",
              "      <th>fever</th>\n",
              "      <th>sore_throat</th>\n",
              "      <th>shortness_of_breath</th>\n",
              "      <th>head_ache</th>\n",
              "      <th>corona_result</th>\n",
              "      <th>age_60_and_above</th>\n",
              "      <th>gender</th>\n",
              "      <th>test_indication</th>\n",
              "    </tr>\n",
              "  </thead>\n",
              "  <tbody>\n",
              "    <tr>\n",
              "      <th>0</th>\n",
              "      <td>2020-04-30</td>\n",
              "      <td>0</td>\n",
              "      <td>0</td>\n",
              "      <td>0</td>\n",
              "      <td>0</td>\n",
              "      <td>0</td>\n",
              "      <td>negative</td>\n",
              "      <td>None</td>\n",
              "      <td>female</td>\n",
              "      <td>Other</td>\n",
              "    </tr>\n",
              "    <tr>\n",
              "      <th>1</th>\n",
              "      <td>2020-04-30</td>\n",
              "      <td>1</td>\n",
              "      <td>0</td>\n",
              "      <td>0</td>\n",
              "      <td>0</td>\n",
              "      <td>0</td>\n",
              "      <td>negative</td>\n",
              "      <td>None</td>\n",
              "      <td>female</td>\n",
              "      <td>Other</td>\n",
              "    </tr>\n",
              "    <tr>\n",
              "      <th>2</th>\n",
              "      <td>2020-04-30</td>\n",
              "      <td>0</td>\n",
              "      <td>1</td>\n",
              "      <td>0</td>\n",
              "      <td>0</td>\n",
              "      <td>0</td>\n",
              "      <td>negative</td>\n",
              "      <td>None</td>\n",
              "      <td>male</td>\n",
              "      <td>Other</td>\n",
              "    </tr>\n",
              "    <tr>\n",
              "      <th>3</th>\n",
              "      <td>2020-04-30</td>\n",
              "      <td>1</td>\n",
              "      <td>0</td>\n",
              "      <td>0</td>\n",
              "      <td>0</td>\n",
              "      <td>0</td>\n",
              "      <td>negative</td>\n",
              "      <td>None</td>\n",
              "      <td>female</td>\n",
              "      <td>Other</td>\n",
              "    </tr>\n",
              "    <tr>\n",
              "      <th>4</th>\n",
              "      <td>2020-04-30</td>\n",
              "      <td>1</td>\n",
              "      <td>0</td>\n",
              "      <td>0</td>\n",
              "      <td>0</td>\n",
              "      <td>0</td>\n",
              "      <td>negative</td>\n",
              "      <td>None</td>\n",
              "      <td>male</td>\n",
              "      <td>Other</td>\n",
              "    </tr>\n",
              "  </tbody>\n",
              "</table>\n",
              "</div>"
            ],
            "text/plain": [
              "    test_date cough fever sore_throat shortness_of_breath head_ache  \\\n",
              "0  2020-04-30     0     0           0                   0         0   \n",
              "1  2020-04-30     1     0           0                   0         0   \n",
              "2  2020-04-30     0     1           0                   0         0   \n",
              "3  2020-04-30     1     0           0                   0         0   \n",
              "4  2020-04-30     1     0           0                   0         0   \n",
              "\n",
              "  corona_result age_60_and_above  gender test_indication  \n",
              "0      negative             None  female           Other  \n",
              "1      negative             None  female           Other  \n",
              "2      negative             None    male           Other  \n",
              "3      negative             None  female           Other  \n",
              "4      negative             None    male           Other  "
            ]
          },
          "metadata": {},
          "execution_count": 102
        }
      ],
      "metadata": {}
    },
    {
      "cell_type": "markdown",
      "source": [
        "Great! These are the features used in the paper for their prediction task. The authors also list these features in the [README.md of their Github repo](https://github.com/nshomron/covidpred). "
      ],
      "metadata": {
        "id": "RWHY4TLAAhpJ"
      }
    },
    {
      "cell_type": "markdown",
      "source": [
        "Pandas read columns as string, so we need to convert them to the proper format before we can operate on it."
      ],
      "metadata": {
        "id": "PEtPMd2qGn72"
      }
    },
    {
      "cell_type": "code",
      "execution_count": 103,
      "source": [
        "df['test_date'] = pd.to_datetime(df['test_date'])"
      ],
      "outputs": [],
      "metadata": {
        "id": "Zi7esn5RGdC8"
      }
    },
    {
      "cell_type": "code",
      "execution_count": 104,
      "source": [
        "print(\"Start date:\", min(df['test_date']))\n",
        "print(\"End date:\", max(df['test_date']))\n",
        "\n",
        "n_days = (max(df['test_date']) - min(df['test_date'])).days\n",
        "print(\"# of days: \", n_days)\n",
        "\n",
        "n_obs =  df.shape[0]\n",
        "print(\"# of observations:\", df.shape[0])\n",
        "print(\"# of features:\", df.shape[1])\n",
        "\n",
        "pos_cases = sum(df['corona_result'] == \"positive\")\n",
        "print(\"# of positively diagnosed cases: {0} ({1: 2.2f}%)\".format(pos_cases, 100*pos_cases / n_obs))\n",
        "\n",
        "neg_cases = sum(df['corona_result'] == \"negative\")\n",
        "print(\"# of negatively diagnosed cases: {0} ({1: 2.2f}%)\".format(neg_cases, 100 * neg_cases / n_obs))\n",
        "\n",
        "other_cases = sum(df['corona_result'] == \"other\") # possibly not confirmed\n",
        "print(\"# of other cases (possibly, not confirmed): {0} ({1: 2.2f}%)\".format(other_cases, 100 * other_cases / n_obs))\n",
        "\n",
        "# Small percentage of positively diagnosed cases - we need to be careful about our accuracy metric. ROC AUC is best."
      ],
      "outputs": [
        {
          "output_type": "stream",
          "name": "stdout",
          "text": [
            "Start date: 2020-03-11 00:00:00\n",
            "End date: 2020-04-30 00:00:00\n",
            "# of days:  50\n",
            "# of observations: 278848\n",
            "# of features: 10\n",
            "# of positively diagnosed cases: 14729 ( 5.28%)\n",
            "# of negatively diagnosed cases: 260227 ( 93.32%)\n",
            "# of other cases (possibly, not confirmed): 3892 ( 1.40%)\n"
          ]
        }
      ],
      "metadata": {
        "colab": {
          "base_uri": "https://localhost:8080/"
        },
        "id": "Mdb3D7Y5BdTt",
        "outputId": "75a9cc98-8a8a-4764-a7df-208cc85202d9"
      }
    },
    {
      "cell_type": "markdown",
      "source": [
        "Since we do not have any information on what happened to \"other\" cases, we will exclude them from our exercise. \n",
        "\n"
      ],
      "metadata": {
        "id": "7guFsw8K-Cvy"
      }
    },
    {
      "cell_type": "code",
      "execution_count": 105,
      "source": [
        "df = df[df['corona_result'].isin(['positive', 'negative'])]"
      ],
      "outputs": [],
      "metadata": {
        "id": "I-2eeGvK-Bxv"
      }
    },
    {
      "cell_type": "markdown",
      "source": [
        "To build out predictor, we will be splitting our dataset into **training,  validation, and test sets**. \n",
        "A model is trained on the training dataset while the hyperparameters are tuned on the validation dataset. \n",
        "Finally, a test dataset is used to report final model's performance metrics. \n",
        "\n",
        "Since we have a time dependent dataset we will split our training and test dataset based on time. \n",
        "Thus, we find the date before which 60% of observations are present, and use that as our training dataset.\n",
        "We will use next 20% of the dataset as our validation dataset, and finally, the remaining 20% will be used as a test dataset. \n",
        "Thus, we use 60-20-20 split.\n",
        "\n",
        "The authors use 63%-23% training-test split, and a further split of training into train-valid dataset using 80-20% split.\n",
        "There is no prescribed formula on how to do this split. \n",
        "\n"
      ],
      "metadata": {
        "id": "4hG2lfabKr1e"
      }
    },
    {
      "cell_type": "code",
      "execution_count": 106,
      "source": [
        "date_counts = df.groupby(['test_date']).count()['gender'] # take count of any column. They will all be same.\n",
        "date_counts = date_counts.sort_index()\n",
        "cum_counts = date_counts.cumsum()\n",
        "cdf = cum_counts / n_obs\n"
      ],
      "outputs": [],
      "metadata": {
        "id": "s0dEh77THGW6"
      }
    },
    {
      "cell_type": "code",
      "execution_count": 107,
      "source": [
        "max_training_date = cdf[cdf < 0.60].index.max()\n",
        "training_data = df[df['test_date'] <= max_training_date]\n",
        "\n",
        "min_test_date = cdf[cdf > 0.80].index.min()\n",
        "test_data = df[df['test_date'] >= min_test_date]\n",
        "\n",
        "valid_data = df[(max_training_date < df['test_date']) & (df['test_date'] < min_test_date)]\n",
        "\n",
        "print(\"# of observations in training dataset\", training_data.shape[0])\n",
        "print(\"# of observations in validation dataset\", valid_data.shape[0])\n",
        "print(\"# of observations in test dataset\", test_data.shape[0])"
      ],
      "outputs": [
        {
          "output_type": "stream",
          "name": "stdout",
          "text": [
            "# of observations in training dataset 160717\n",
            "# of observations in validation dataset 53172\n",
            "# of observations in test dataset 61067\n"
          ]
        }
      ],
      "metadata": {
        "colab": {
          "base_uri": "https://localhost:8080/"
        },
        "id": "WvTrB-PsMrOv",
        "outputId": "f46dd3b9-4a37-4c62-de4c-d0126ba4d511"
      }
    },
    {
      "cell_type": "markdown",
      "source": [
        "**NOTE:**\n",
        "It is **extremely important** that you do not use the test dataset in the model building phase. \n",
        "While building models, it is required to tune the hyperparameter, adjust assumptions, modify features, etc. \n",
        "This should be done on the validation dataset. \n",
        "After several such iterations on the validation dataset, you will pick a model with the best performace as your final model. \n",
        "\n",
        "A test dataset is used to measure the final model's performance, which is a proxy for how it will perform (or generalize) in real life. \n",
        "Thus, to have a proper measure of model's genearalization, test dataset should not be part of your model building process. "
      ],
      "metadata": {
        "id": "J-xJrSsa5_Lz"
      }
    },
    {
      "cell_type": "markdown",
      "source": [
        "# Exploratory Data Analysis\n",
        "\n",
        "In this section, we will see the general statistics of features.\n",
        "In doing so, we will encounter inconsistencies in the data and address them accordingly. \n",
        "\n",
        "\n",
        "\n",
        "\n",
        "\n"
      ],
      "metadata": {
        "id": "W86CzZGp_rOd"
      }
    },
    {
      "cell_type": "code",
      "execution_count": 108,
      "source": [
        "# We want to predict 'corona_result'. \n",
        "# We will not use \"test_date\" as a feature. \n",
        "# So we narrow down the input features to this list \n",
        "INPUT_FEATURES = ['cough', 'fever', 'sore_throat', 'shortness_of_breath', 'head_ache', 'age_60_and_above', 'gender', 'test_indication']\n",
        "TARGET_COLUMN = 'corona_result'\n",
        "\n",
        "for col in INPUT_FEATURES:\n",
        "  print(\"*\"*25, f\" {col} \", \"*\"*25)\n",
        "  print(training_data[col].value_counts())"
      ],
      "outputs": [
        {
          "output_type": "stream",
          "name": "stdout",
          "text": [
            "*************************  cough  *************************\n",
            "0       119702\n",
            "1        25547\n",
            "0        12039\n",
            "1         3177\n",
            "None       252\n",
            "Name: cough, dtype: int64\n",
            "*************************  fever  *************************\n",
            "0       131874\n",
            "0        13768\n",
            "1        13375\n",
            "1         1448\n",
            "None       252\n",
            "Name: fever, dtype: int64\n",
            "*************************  sore_throat  *************************\n",
            "0       142874\n",
            "0        15973\n",
            "1         1435\n",
            "1          434\n",
            "None         1\n",
            "Name: sore_throat, dtype: int64\n",
            "*************************  shortness_of_breath  *************************\n",
            "0       143279\n",
            "0        15906\n",
            "1         1030\n",
            "1          501\n",
            "None         1\n",
            "Name: shortness_of_breath, dtype: int64\n",
            "*************************  head_ache  *************************\n",
            "0       142294\n",
            "0        16064\n",
            "1         2015\n",
            "1          343\n",
            "None         1\n",
            "Name: head_ache, dtype: int64\n",
            "*************************  age_60_and_above  *************************\n",
            "No      123867\n",
            "Yes      25425\n",
            "None     11425\n",
            "Name: age_60_and_above, dtype: int64\n",
            "*************************  gender  *************************\n",
            "male      72598\n",
            "female    70950\n",
            "None      17169\n",
            "Name: gender, dtype: int64\n",
            "*************************  test_indication  *************************\n",
            "Other                     135059\n",
            "Abroad                     17162\n",
            "Contact with confirmed      8496\n",
            "Name: test_indication, dtype: int64\n"
          ]
        }
      ],
      "metadata": {
        "colab": {
          "base_uri": "https://localhost:8080/"
        },
        "id": "jx1mMFLQEMdS",
        "outputId": "b29c246d-3d7e-4a33-8d50-9ed5afa2fdcc"
      }
    },
    {
      "cell_type": "markdown",
      "source": [
        "Here are the questions to guide you through the process of exploring data \n",
        "\n",
        "1.   Think about possible biases and limitations of this dataset\n",
        "2.   What is the format of feature values? Are there any inconsistencies? If so, how would you make them cosistent?\n",
        "3.   What is the statistics of these feature values? How many symptoms are reported or not?\n",
        "4.   Which symptoms have a reporting bias, i.e., likely to be reported when the patient is COVID positive? \n",
        "5.   How will the symptoms with reporting bias affect the model’s performance?\n",
        "6.   Visualization: Draw the bar graph of features grouped by the target class? \n",
        "7.   How does the bar graph of the symptoms with reporting bias looks like?\n",
        "8.   Determine if we have a class imbalance in the dataset? If so, what do you reckon will be the downstream challenges in evaluating the model? How will you overcome those challenges?\n",
        "9.   What does \"None\" value mean for feature? Should we include these features?"
      ],
      "metadata": {
        "id": "P-bVRyzjR-dU"
      }
    },
    {
      "cell_type": "markdown",
      "source": [
        "\n",
        "**GOOD PRACTICE**: To make your plots accessible to everyone, it is always a good idea to use colorblind-friendly palette for your plots. Check out [this](https://medium.com/cafe-pixo/inclusive-color-palettes-for-the-web-bbfe8cf2410e) for such a palette."
      ],
      "metadata": {
        "id": "IQRohLR0R8wd"
      }
    },
    {
      "cell_type": "markdown",
      "source": [
        "# Feature Engineering\n",
        "\n",
        "In this section, we will transform the features that models can operate upon. Note that this transformation doesn't have to be unique. \n",
        "It is very much dependent on the type of model you are building. \n",
        "\n",
        "Here is the list of questions to guide your feature engineering task \n",
        "\n",
        "1.   How will you represent the features in numerical format that can be accessible by model? \n",
        "2.   Are there any redundancies in your feature representation?\n",
        "3.   How will you represent targets in a format accessible to the model?\n",
        "\n",
        "Check out [`sklearn`'s preprocessing library](https://scikit-learn.org/stable/modules/preprocessing.html) for easy-to-use functions to do this. "
      ],
      "metadata": {
        "id": "GLRMrojV__Se"
      }
    },
    {
      "cell_type": "code",
      "execution_count": 110,
      "source": [
        "from sklearn.preprocessing import OneHotEncoder, LabelBinarizer\n",
        "\n",
        "\n",
        "def preprocess(data, lb):\n",
        "  \"\"\"\n",
        "  Transforms `data` into format required for model building\n",
        "\n",
        "  Args:\n",
        "    data (pd.DataFrame): dataframe with columns `INPUT_FEAUTURES` and `TARGET_COLUMN`\n",
        "    lb (sklearn.preprocessing.LabelBinarizer): A fitted LabelBinarizer to be used to transform `TARGET_COLUMN`\n",
        "  \n",
        "  Returns:\n",
        "    model_input (np.array): each row is an observation, columns are one-hot encoded features of `INPUT_FEATURES`\n",
        "    model_target (np.array): 1D array with 1 where `TARGET_COLUMN` is \"positive\" and 0 otherwise.\n",
        "  \"\"\"\n",
        "\n",
        "  # Drop test_date column as not used.\n",
        "  data = data.drop('test_date', axis=1)\n",
        "\n",
        "  # Remove entries with 'None' values.\n",
        "  data = data.mask(data.eq('None')).dropna()\n",
        "\n",
        "  # Clean values, turning all values into ints to consolidate duplicate values.\n",
        "  for col in ['cough', 'fever', 'sore_throat', 'shortness_of_breath']:\n",
        "    data[col] = data[col].apply(lambda x: int(x))\n",
        "\n",
        "  data.corona_result = lb.fit_transform(data[['corona_result']])\n",
        "\n",
        "  # One hot encode age_60_and_above, gender and test_indication\n",
        "  data = pd.get_dummies(data, columns=['age_60_and_above', 'gender', 'test_indication'])\n",
        "  \n",
        "  model_input = data.drop('corona_result', axis=1)\n",
        "  model_target = data['corona_result']\n",
        "\n",
        "  return model_input, model_target\n",
        "  \n",
        "\n",
        "X_train, y_train = preprocess(training_data, LabelBinarizer())\n",
        "X_valid, y_valid = preprocess(valid_data, LabelBinarizer())"
      ],
      "outputs": [
        {
          "output_type": "error",
          "ename": "IndexError",
          "evalue": "index 0 is out of bounds for axis 0 with size 0",
          "traceback": [
            "\u001b[0;31m---------------------------------------------------------------------------\u001b[0m",
            "\u001b[0;31mIndexError\u001b[0m                                Traceback (most recent call last)",
            "\u001b[0;32m/var/folders/0r/bh90vtb11z55h1g2bg2r3y_m0000gn/T/ipykernel_9565/450837170.py\u001b[0m in \u001b[0;36m<module>\u001b[0;34m\u001b[0m\n\u001b[1;32m     36\u001b[0m \u001b[0;34m\u001b[0m\u001b[0m\n\u001b[1;32m     37\u001b[0m \u001b[0mX_train\u001b[0m\u001b[0;34m,\u001b[0m \u001b[0my_train\u001b[0m \u001b[0;34m=\u001b[0m \u001b[0mpreprocess\u001b[0m\u001b[0;34m(\u001b[0m\u001b[0mtraining_data\u001b[0m\u001b[0;34m,\u001b[0m \u001b[0mLabelBinarizer\u001b[0m\u001b[0;34m(\u001b[0m\u001b[0;34m)\u001b[0m\u001b[0;34m)\u001b[0m\u001b[0;34m\u001b[0m\u001b[0;34m\u001b[0m\u001b[0m\n\u001b[0;32m---> 38\u001b[0;31m \u001b[0mX_valid\u001b[0m\u001b[0;34m,\u001b[0m \u001b[0my_valid\u001b[0m \u001b[0;34m=\u001b[0m \u001b[0mpreprocess\u001b[0m\u001b[0;34m(\u001b[0m\u001b[0mvalid_data\u001b[0m\u001b[0;34m,\u001b[0m \u001b[0mLabelBinarizer\u001b[0m\u001b[0;34m(\u001b[0m\u001b[0;34m)\u001b[0m\u001b[0;34m)\u001b[0m\u001b[0;34m\u001b[0m\u001b[0;34m\u001b[0m\u001b[0m\n\u001b[0m",
            "\u001b[0;32m/var/folders/0r/bh90vtb11z55h1g2bg2r3y_m0000gn/T/ipykernel_9565/450837170.py\u001b[0m in \u001b[0;36mpreprocess\u001b[0;34m(data, lb)\u001b[0m\n\u001b[1;32m     25\u001b[0m     \u001b[0mdata\u001b[0m\u001b[0;34m[\u001b[0m\u001b[0mcol\u001b[0m\u001b[0;34m]\u001b[0m \u001b[0;34m=\u001b[0m \u001b[0mdata\u001b[0m\u001b[0;34m[\u001b[0m\u001b[0mcol\u001b[0m\u001b[0;34m]\u001b[0m\u001b[0;34m.\u001b[0m\u001b[0mapply\u001b[0m\u001b[0;34m(\u001b[0m\u001b[0;32mlambda\u001b[0m \u001b[0mx\u001b[0m\u001b[0;34m:\u001b[0m \u001b[0mint\u001b[0m\u001b[0;34m(\u001b[0m\u001b[0mx\u001b[0m\u001b[0;34m)\u001b[0m\u001b[0;34m)\u001b[0m\u001b[0;34m\u001b[0m\u001b[0;34m\u001b[0m\u001b[0m\n\u001b[1;32m     26\u001b[0m \u001b[0;34m\u001b[0m\u001b[0m\n\u001b[0;32m---> 27\u001b[0;31m   \u001b[0mdata\u001b[0m\u001b[0;34m.\u001b[0m\u001b[0mcorona_result\u001b[0m \u001b[0;34m=\u001b[0m \u001b[0mlb\u001b[0m\u001b[0;34m.\u001b[0m\u001b[0mfit_transform\u001b[0m\u001b[0;34m(\u001b[0m\u001b[0mdata\u001b[0m\u001b[0;34m[\u001b[0m\u001b[0;34m[\u001b[0m\u001b[0;34m'corona_result'\u001b[0m\u001b[0;34m]\u001b[0m\u001b[0;34m]\u001b[0m\u001b[0;34m)\u001b[0m\u001b[0;34m\u001b[0m\u001b[0;34m\u001b[0m\u001b[0m\n\u001b[0m\u001b[1;32m     28\u001b[0m \u001b[0;34m\u001b[0m\u001b[0m\n\u001b[1;32m     29\u001b[0m   \u001b[0;31m# One hot encode age_60_and_above, gender and test_indication\u001b[0m\u001b[0;34m\u001b[0m\u001b[0;34m\u001b[0m\u001b[0;34m\u001b[0m\u001b[0m\n",
            "\u001b[0;32m~/miniconda3/lib/python3.8/site-packages/sklearn/preprocessing/_label.py\u001b[0m in \u001b[0;36mfit_transform\u001b[0;34m(self, y)\u001b[0m\n\u001b[1;32m    319\u001b[0m             \u001b[0mwill\u001b[0m \u001b[0mbe\u001b[0m \u001b[0mof\u001b[0m \u001b[0mCSR\u001b[0m \u001b[0mformat\u001b[0m\u001b[0;34m.\u001b[0m\u001b[0;34m\u001b[0m\u001b[0;34m\u001b[0m\u001b[0m\n\u001b[1;32m    320\u001b[0m         \"\"\"\n\u001b[0;32m--> 321\u001b[0;31m         \u001b[0;32mreturn\u001b[0m \u001b[0mself\u001b[0m\u001b[0;34m.\u001b[0m\u001b[0mfit\u001b[0m\u001b[0;34m(\u001b[0m\u001b[0my\u001b[0m\u001b[0;34m)\u001b[0m\u001b[0;34m.\u001b[0m\u001b[0mtransform\u001b[0m\u001b[0;34m(\u001b[0m\u001b[0my\u001b[0m\u001b[0;34m)\u001b[0m\u001b[0;34m\u001b[0m\u001b[0;34m\u001b[0m\u001b[0m\n\u001b[0m\u001b[1;32m    322\u001b[0m \u001b[0;34m\u001b[0m\u001b[0m\n\u001b[1;32m    323\u001b[0m     \u001b[0;32mdef\u001b[0m \u001b[0mtransform\u001b[0m\u001b[0;34m(\u001b[0m\u001b[0mself\u001b[0m\u001b[0;34m,\u001b[0m \u001b[0my\u001b[0m\u001b[0;34m)\u001b[0m\u001b[0;34m:\u001b[0m\u001b[0;34m\u001b[0m\u001b[0;34m\u001b[0m\u001b[0m\n",
            "\u001b[0;32m~/miniconda3/lib/python3.8/site-packages/sklearn/preprocessing/_label.py\u001b[0m in \u001b[0;36mfit\u001b[0;34m(self, y)\u001b[0m\n\u001b[1;32m    287\u001b[0m         \u001b[0mself\u001b[0m \u001b[0;34m:\u001b[0m \u001b[0mreturns\u001b[0m \u001b[0man\u001b[0m \u001b[0minstance\u001b[0m \u001b[0mof\u001b[0m \u001b[0mself\u001b[0m\u001b[0;34m.\u001b[0m\u001b[0;34m\u001b[0m\u001b[0;34m\u001b[0m\u001b[0m\n\u001b[1;32m    288\u001b[0m         \"\"\"\n\u001b[0;32m--> 289\u001b[0;31m         \u001b[0mself\u001b[0m\u001b[0;34m.\u001b[0m\u001b[0my_type_\u001b[0m \u001b[0;34m=\u001b[0m \u001b[0mtype_of_target\u001b[0m\u001b[0;34m(\u001b[0m\u001b[0my\u001b[0m\u001b[0;34m)\u001b[0m\u001b[0;34m\u001b[0m\u001b[0;34m\u001b[0m\u001b[0m\n\u001b[0m\u001b[1;32m    290\u001b[0m         \u001b[0;32mif\u001b[0m \u001b[0;34m'multioutput'\u001b[0m \u001b[0;32min\u001b[0m \u001b[0mself\u001b[0m\u001b[0;34m.\u001b[0m\u001b[0my_type_\u001b[0m\u001b[0;34m:\u001b[0m\u001b[0;34m\u001b[0m\u001b[0;34m\u001b[0m\u001b[0m\n\u001b[1;32m    291\u001b[0m             raise ValueError(\"Multioutput target data is not supported with \"\n",
            "\u001b[0;32m~/miniconda3/lib/python3.8/site-packages/sklearn/utils/multiclass.py\u001b[0m in \u001b[0;36mtype_of_target\u001b[0;34m(y)\u001b[0m\n\u001b[1;32m    304\u001b[0m         \u001b[0;32mreturn\u001b[0m \u001b[0;34m'continuous'\u001b[0m \u001b[0;34m+\u001b[0m \u001b[0msuffix\u001b[0m\u001b[0;34m\u001b[0m\u001b[0;34m\u001b[0m\u001b[0m\n\u001b[1;32m    305\u001b[0m \u001b[0;34m\u001b[0m\u001b[0m\n\u001b[0;32m--> 306\u001b[0;31m     \u001b[0;32mif\u001b[0m \u001b[0;34m(\u001b[0m\u001b[0mlen\u001b[0m\u001b[0;34m(\u001b[0m\u001b[0mnp\u001b[0m\u001b[0;34m.\u001b[0m\u001b[0munique\u001b[0m\u001b[0;34m(\u001b[0m\u001b[0my\u001b[0m\u001b[0;34m)\u001b[0m\u001b[0;34m)\u001b[0m \u001b[0;34m>\u001b[0m \u001b[0;36m2\u001b[0m\u001b[0;34m)\u001b[0m \u001b[0;32mor\u001b[0m \u001b[0;34m(\u001b[0m\u001b[0my\u001b[0m\u001b[0;34m.\u001b[0m\u001b[0mndim\u001b[0m \u001b[0;34m>=\u001b[0m \u001b[0;36m2\u001b[0m \u001b[0;32mand\u001b[0m \u001b[0mlen\u001b[0m\u001b[0;34m(\u001b[0m\u001b[0my\u001b[0m\u001b[0;34m[\u001b[0m\u001b[0;36m0\u001b[0m\u001b[0;34m]\u001b[0m\u001b[0;34m)\u001b[0m \u001b[0;34m>\u001b[0m \u001b[0;36m1\u001b[0m\u001b[0;34m)\u001b[0m\u001b[0;34m:\u001b[0m\u001b[0;34m\u001b[0m\u001b[0;34m\u001b[0m\u001b[0m\n\u001b[0m\u001b[1;32m    307\u001b[0m         \u001b[0;32mreturn\u001b[0m \u001b[0;34m'multiclass'\u001b[0m \u001b[0;34m+\u001b[0m \u001b[0msuffix\u001b[0m  \u001b[0;31m# [1, 2, 3] or [[1., 2., 3]] or [[1, 2]]\u001b[0m\u001b[0;34m\u001b[0m\u001b[0;34m\u001b[0m\u001b[0m\n\u001b[1;32m    308\u001b[0m     \u001b[0;32melse\u001b[0m\u001b[0;34m:\u001b[0m\u001b[0;34m\u001b[0m\u001b[0;34m\u001b[0m\u001b[0m\n",
            "\u001b[0;31mIndexError\u001b[0m: index 0 is out of bounds for axis 0 with size 0"
          ]
        }
      ],
      "metadata": {
        "id": "cGLQMUmWWKch"
      }
    },
    {
      "cell_type": "markdown",
      "source": [
        "# Model building\n",
        "\n",
        "In this section, we will build various classifiers using `sklearn`. You do not have to restrict yourself to `sklearn`. Please feel free to use any other library.\n",
        "\n",
        "**TRY:**  Try various classifiers that you have learned so far.\n",
        "Here is the list of models to try :\n",
        "\n",
        "*  Logistic Regssion: [User Guide](https://scikit-learn.org/stable/modules/linear_model.html#logistic-regression). [API](https://scikit-learn.org/stable/modules/generated/sklearn.linear_model.LogisticRegression.html).\n",
        "*   Decision Trees: [User Guide](https://scikit-learn.org/stable/modules/tree.html#classification). [API](https://scikit-learn.org/stable/modules/generated/sklearn.tree.DecisionTreeClassifier.html#sklearn.tree.DecisionTreeClassifier). You can head down in the User Guide to [other Tree algorithms](https://scikit-learn.org/stable/modules/tree.html#tree-algorithms-id3-c4-5-c5-0-and-cart) if you fancy. \n",
        "*   Categorical Naive Bayes.[User Guide](https://scikit-learn.org/stable/modules/naive_bayes.html#categorical-naive-bayes). [API](https://scikit-learn.org/stable/modules/generated/sklearn.naive_bayes.CategoricalNB.html#sklearn.naive_bayes.CategoricalNB)\n",
        "*   Linear Discriminant Analysis. [User Guide](https://scikit-learn.org/stable/modules/lda_qda.html#). [API](https://scikit-learn.org/stable/modules/generated/sklearn.discriminant_analysis.LinearDiscriminantAnalysis.html#sklearn.discriminant_analysis.LinearDiscriminantAnalysis)\n",
        "*   Quadratic Discriminant Analysis. [User Guide](https://scikit-learn.org/stable/modules/lda_qda.html#). [API](https://scikit-learn.org/stable/modules/generated/sklearn.discriminant_analysis.QuadraticDiscriminantAnalysis.html#sklearn.discriminant_analysis.QuadraticDiscriminantAnalysis)\n",
        "*   Support Vector Machines. [User Guide](https://scikit-learn.org/stable/modules/svm.html#classification). [API](https://scikit-learn.org/stable/modules/generated/sklearn.svm.SVC.html#sklearn.svm.SVC)\n",
        "*   Nearest neighbors classification. [User Guide](https://scikit-learn.org/stable/modules/neighbors.html#nearest-neighbors-classification). [API](https://scikit-learn.org/stable/modules/generated/sklearn.neighbors.KNeighborsClassifier.html#sklearn.neighbors.KNeighborsClassifier)\n",
        "*   Neural networks - Multi-layer Perceptron (MLP). [User Guide](https://scikit-learn.org/stable/modules/neural_networks_supervised.html#multi-layer-perceptron). [API](https://scikit-learn.org/stable/modules/generated/sklearn.neural_network.MLPClassifier.html#sklearn.neural_network.MLPClassifier)\n",
        "\n"
      ],
      "metadata": {
        "id": "5N6PYvo8NUuE"
      }
    },
    {
      "cell_type": "code",
      "execution_count": 85,
      "source": [
        "from sklearn.linear_model import LogisticRegression\n",
        "\n",
        "lr = LogisticRegression()\n",
        "lr.fit(X_train, y_train)\n",
        "lr.score(X_train, y_train)"
      ],
      "outputs": [
        {
          "output_type": "execute_result",
          "data": {
            "text/plain": [
              "0.9524557207213817"
            ]
          },
          "metadata": {},
          "execution_count": 85
        }
      ],
      "metadata": {}
    },
    {
      "cell_type": "markdown",
      "source": [
        "# Evaluate Model\n",
        "\n",
        "In this section, we will evaluate our model's performance on the validation dataset. \n",
        "\n",
        "Here are the list of questions to think about while deciding how to evaluate your model - \n",
        "*   Is accuracy the right metric to evaluate the model? Are inaccuracies correctly penalized in the accuracy metric?\n",
        "*  Would you think that the cost of false negative is more than the false positive? Is it dependent on the application?\n",
        "*  Which metric will minimize false negatives and false positives?\n",
        "*   Which dataset should you chose to evaluate the model? Validation or Test?\n",
        "What other metric is relevant in our context?  \n",
        "\n",
        "For benchmarking everyone’s results we will stick to ROC AUC score as a metric. \n",
        "There are standard functions to compute these scores in `sklearn`, so we will use them. \n",
        "Specifically, we will be using [`roc_auc_score`](https://scikit-learn.org/stable/modules/generated/sklearn.metrics.roc_auc_score.html#sklearn.metrics.roc_auc_score) and [`plot_roc_curve`](https://scikit-learn.org/stable/modules/generated/sklearn.metrics.plot_roc_curve.html).\n"
      ],
      "metadata": {
        "id": "bZSS0TyANfG1"
      }
    },
    {
      "cell_type": "code",
      "execution_count": 88,
      "source": [
        "def evaluate(model, X, Y):\n",
        "  \"\"\"\n",
        "  Returns the AUC-ROC for `model` as evaluated on (X, Y)\n",
        "\n",
        "  Args:\n",
        "    model (): Any model that has a function predict_proba and returns probability for each row in `X`.\n",
        "    X (np.array): Input to the model containing feature values\n",
        "    Y (np.array): 1D array containing true class i.e. 0 or 1\n",
        "  \n",
        "  Returns:\n",
        "    (float): AUC ROC for the model\n",
        "  \"\"\"\n",
        "\n",
        "  y_score = model.predict_proba(X) # (n_samples, n_clases) with each value being the probability of being in that class\n",
        "  return roc_auc_score(y_true=Y, y_score=y_score[:, 1])\n",
        "\n",
        "evaluate(lr, X_train, y_train)"
      ],
      "outputs": [
        {
          "output_type": "execute_result",
          "data": {
            "text/plain": [
              "0.8973917684664842"
            ]
          },
          "metadata": {},
          "execution_count": 88
        }
      ],
      "metadata": {
        "id": "5TGfy0kYV7pM"
      }
    },
    {
      "cell_type": "markdown",
      "source": [
        "# Hyperparameter Search\n",
        "\n",
        "In this section we will be searching for the best parameters to build our models. \n",
        "This is where we will use our validation dataset. \n",
        "\n",
        "\n"
      ],
      "metadata": {
        "id": "6n0jr-EekESj"
      }
    },
    {
      "cell_type": "markdown",
      "source": [
        "Hyperparameter search can become messy if you have lots of paramters. \n",
        "A brute force method to do such a search will be to do a grid search to fit tons of models. \n",
        "Thus, a smarter way to do hyperparameter search has been the subject of research. \n",
        "\n",
        "**TRY:** If interested, read [here](https://scikit-learn.org/stable/modules/grid_search.html) for more details and incorporate some of those ideas in the model building process. "
      ],
      "metadata": {
        "id": "uqSd5Bo3chPT"
      }
    },
    {
      "cell_type": "markdown",
      "source": [
        "# Report your results\n",
        "\n",
        "**NOTE:** You should use the test dataset only when you are done with hyperparameter search on your model. \n",
        "This is because the test dataset is not involved in the model building process, thereby making sure that the performance evaluation on the test dataset measures how well the proposed model is able to generalize."
      ],
      "metadata": {
        "id": "UkB6mMuSkkmN"
      }
    },
    {
      "cell_type": "code",
      "execution_count": null,
      "source": [
        "X_test, Y_test = preprocess(test_data, encoder, lb)\n",
        "auc_score = evaluate(best_model, X_test, Y_test)\n",
        "print(f\"AUC-ROC on the test dataset:{auc_score}\")\n"
      ],
      "outputs": [
        {
          "output_type": "stream",
          "name": "stdout",
          "text": [
            "AUC-ROC on the test dataset:0.8114507841261618\n"
          ]
        }
      ],
      "metadata": {
        "id": "pxqeBPIMko9Z",
        "colab": {
          "base_uri": "https://localhost:8080/"
        },
        "outputId": "b36d385f-50bf-4abe-c447-27861025a9f0"
      }
    },
    {
      "cell_type": "markdown",
      "source": [
        "Is this the end?\n",
        "\n",
        "What do you need to do to make the model practically applicable? How would you use this model in the real life?"
      ],
      "metadata": {
        "id": "CmnEnKthyBGz"
      }
    },
    {
      "cell_type": "markdown",
      "source": [
        "# Collaborate with Ensemble \n",
        "\n",
        "You can combine various models to form an ensemble model. \n",
        "There are various ways to combine these models. \n",
        "All of them serve a particular purpose (e.g. reducing variance, increasing accuracy. etc.). \n",
        "\n",
        "The simplest example of an ensemble is to combine the constituent models via voting. This can be done in two ways:\n",
        "*  soft voting - likelihood of the input belonging to a class is the mean of the likelihood predicted by the constituent models, \n",
        "*  hard-voting - likelihood of the input belonging to a class is determined by frequency of the constutuent models predicting that class for the input.\n",
        "\n",
        "Thus, if you are working in a team, let each member try out different models. At the end, combine your models and make an ensemble model. \n",
        "\n",
        "Here is the [User Guide](https://scikit-learn.org/stable/modules/ensemble.html#voting-classifier) and [API](https://scikit-learn.org/stable/modules/generated/sklearn.ensemble.VotingClassifier.html#sklearn.ensemble.VotingClassifier) for making such an ensemble model."
      ],
      "metadata": {
        "id": "f5sO-B1-BnFz"
      }
    },
    {
      "cell_type": "markdown",
      "source": [
        "# Extras: Class imbalance\n",
        "\n",
        "**TRY:** \n",
        " Why not try resampling techniques to optimize for ROC AUC?\n",
        "\n",
        "\n",
        "\n"
      ],
      "metadata": {
        "id": "awguX_CZs17n"
      }
    },
    {
      "cell_type": "markdown",
      "source": [
        "# Extras: Dimensionality Reduction\n",
        "\n",
        "**TRY:** You can try dimensionality reduction from 16 dimensions to just 2 dimensions and visualize 2D plot with just two categories - \"positive\" and \"negative\". \n",
        "To do this, try various dimension reduction techniques, for example, [LDA](https://scikit-learn.org/stable/modules/lda_qda.html#mathematical-formulation-of-lda-dimensionality-reduction), [PCA](https://scikit-learn.org/stable/modules/generated/sklearn.decomposition.PCA.html#sklearn.decomposition.PCA), [t-SNE](https://scikit-learn.org/stable/modules/generated/sklearn.manifold.TSNE.html). \n"
      ],
      "metadata": {
        "id": "jRQOtp3sNoKq"
      }
    },
    {
      "cell_type": "markdown",
      "source": [
        "# Poster template \n",
        "\n",
        "It is often the most difficult task to communicate the project's finding concisely in 1 minute or in a 1 slide. \n",
        "Therefore, our suggestion will be to touch upon the following points in your poster -  \n",
        "\n",
        "1. Briefly define the problem\n",
        "2. Briefly describe the dataset \n",
        "3. What did you learn about various models/techniques/etc.? e.g. \n",
        "4. What's the auc score of your final model did you get?\n",
        "\n",
        "If you want to learn what matters in building such posters, check out this great [YouTube video](https://www.youtube.com/watch?v=1RwJbhkCA58).\n",
        "Specifically, we should try and avoid posters with a lot of stuff to avoid cognitive overload. \n",
        "The templates suggested in the video can be found [here](https://osf.io/ef53g/). \n",
        "Note these are for academic papers, however, you can follow a similar ideology to concizsely display your work. "
      ],
      "metadata": {
        "id": "o-B7PKHpewgz"
      }
    }
  ]
}